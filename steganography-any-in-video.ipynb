{
 "cells": [
  {
   "cell_type": "code",
   "execution_count": null,
   "id": "97c65bfc",
   "metadata": {},
   "outputs": [],
   "source": [
    "import cv2\n",
    "import numpy as np\n",
    "from moviepy import *\n",
    "from stegano import lsb\n",
    "from PIL import Image"
   ]
  },
  {
   "cell_type": "code",
   "execution_count": null,
   "id": "c691ffef",
   "metadata": {},
   "outputs": [],
   "source": [
    "def str_splitter(main_str, substr_len):\n",
    "    print(f'Number of sub-strings: {len(main_str)  // substr_len + (len(main_str) % substr_len != 0)}')\n",
    "    return [main_str[i:i + substr_len] for i in range(0, len(main_str), substr_len)]\n",
    "\n",
    "\n",
    "def get_video_attr(vid_path):\n",
    "    vid = cv2.VideoCapture(vid_path)\n",
    "    fourcc = int(vid.get(cv2.CAP_PROP_FOURCC))\n",
    "    fps = vid.get(cv2.CAP_PROP_FPS)\n",
    "    w = int(vid.get(cv2.CAP_PROP_FRAME_WIDTH))\n",
    "    h = int(vid.get(cv2.CAP_PROP_FRAME_HEIGHT))\n",
    "    list_frame = []  # shape(frame_count, height, width, rgb_val_count)\n",
    "    count = 0\n",
    "    while 1:\n",
    "        success, image = vid.read()\n",
    "        if not success:\n",
    "            break\n",
    "        list_frame.append(image)\n",
    "        count += 1\n",
    "\n",
    "    return list_frame, fourcc, fps, w, h\n",
    "\n",
    "def encode_string_to_video(sec_file_path, cover_vid_path, stego_vid_path):\n",
    "    # Encode file to a binary string\n",
    "    with open(sec_file_path, 'rb') as f:\n",
    "        binary_data = f.read()\n",
    "\n",
    "    # Split the encoded strings to multiple substrings\n",
    "    print(f'Your data is converted to a sequence of {len(binary_data)} bytes.')\n",
    "    substr_len = int(input('How long should each sub-string be?: '))\n",
    "    list_substr = str_splitter(binary_data, substr_len)\n",
    "\n",
    "    # Read all necessary attributes from video\n",
    "    list_frame, fourcc, fps, w, h = get_video_attr(cover_vid_path)\n",
    "\n",
    "    # Hide data into video\n",
    "    print(f'There are {len(list_frame)} frames in this video.')\n",
    "    frame_hide_start = int(input(f'From which frame do you want to hide your data? (Choose between 0 and {len(list_frame) - len(list_substr) - 1}): '))\n",
    "    frame_hide_end = frame_hide_start + len(list_substr)\n",
    "    stego_vid = cv2.VideoWriter(stego_vid_path, fourcc, fps, (w, h))\n",
    "    for i in range(len(list_frame)):\n",
    "        if i in range(frame_hide_start, frame_hide_end):\n",
    "            frame_pil = Image.fromarray(list_frame[i])\n",
    "            secret_pil = lsb.hide(frame_pil, list_substr[i - frame_hide_start])\n",
    "            new_frame = np.array(secret_pil)\n",
    "            list_frame[i] = new_frame\n",
    "        \n",
    "        # list_frame[i] = cv2.cvtColor(list_frame[i], cv2.COLOR_BGR2RGB)\n",
    "        stego_vid.write(list_frame[i])\n",
    "    cv2.destroyAllWindows()\n",
    "    stego_vid.release()\n",
    "\n",
    "    # Export new video\n",
    "    stego_vid = VideoFileClip(stego_vid_path)\n",
    "    stego_vid = stego_vid.with_audio(VideoFileClip(cover_vid_path).audio)\n",
    "    stego_vid.write_videofile(stego_vid_path, codec=\"libx264\", audio_codec=\"aac\")\n",
    "    return binary_data"
   ]
  },
  {
   "cell_type": "code",
   "execution_count": null,
   "id": "a4e43359",
   "metadata": {},
   "outputs": [],
   "source": [
    "def decode_video(stego_video_path, file_name):\n",
    "    # Getting the encoded binary data\n",
    "    binary_data = b''\n",
    "    list_frame, _, _, _, _  = get_video_attr(stego_video_path)\n",
    "    for frame in list_frame:\n",
    "        print(frame.shape)\n",
    "        frame_pil = Image.fromarray(frame)\n",
    "        secret_data = lsb.reveal(frame_pil)\n",
    "        if secret_data != None:\n",
    "            binary_data += secret_data\n",
    "\n",
    "    # Saving secret file\n",
    "    with open(file_name, 'wb') as f:\n",
    "        f.write(binary_data)"
   ]
  },
  {
   "cell_type": "code",
   "execution_count": null,
   "id": "00dc29ed",
   "metadata": {},
   "outputs": [],
   "source": [
    "binary_data = encode_string_to_video('methodEoF.py', r'Result\\#1 bedwars trap.mp4', 'stego.mp4')"
   ]
  },
  {
   "cell_type": "code",
   "execution_count": null,
   "id": "d23fb3ab",
   "metadata": {},
   "outputs": [],
   "source": [
    "decode_video('stego.mp4', 'methodEoF.py')"
   ]
  },
  {
   "cell_type": "code",
   "execution_count": null,
   "id": "dbc1c06d",
   "metadata": {},
   "outputs": [],
   "source": [
    "vid = cv2.VideoCapture('L30_V001.mp4')\n",
    "fourcc = int(vid.get(cv2.CAP_PROP_FOURCC))\n",
    "fps = vid.get(cv2.CAP_PROP_FPS)\n",
    "w = int(vid.get(cv2.CAP_PROP_FRAME_WIDTH))\n",
    "h = int(vid.get(cv2.CAP_PROP_FRAME_HEIGHT))\n",
    "print(fourcc, fps, w, h)"
   ]
  },
  {
   "cell_type": "code",
   "execution_count": null,
   "id": "5b60d9ed",
   "metadata": {},
   "outputs": [],
   "source": []
  }
 ],
 "metadata": {
  "kernelspec": {
   "display_name": ".venv",
   "language": "python",
   "name": "python3"
  },
  "language_info": {
   "codemirror_mode": {
    "name": "ipython",
    "version": 3
   },
   "file_extension": ".py",
   "mimetype": "text/x-python",
   "name": "python",
   "nbconvert_exporter": "python",
   "pygments_lexer": "ipython3",
   "version": "3.12.6"
  }
 },
 "nbformat": 4,
 "nbformat_minor": 5
}
